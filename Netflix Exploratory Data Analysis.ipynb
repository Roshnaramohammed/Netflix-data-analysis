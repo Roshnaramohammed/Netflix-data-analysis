{
 "cells": [
  {
   "cell_type": "markdown",
   "metadata": {},
   "source": [
    "# Exploring the World of Netflix: An Analysis of Movies and Series\n",
    "\n",
    "In this project, I delve into the world of Netflix entertainment to explore its vast selection of content. By analyzing various aspects such as genre, ratings, release date, and popularity, I aim to uncover insights about what makes a successful Netflix production. Through this analysis, I hope to provide a deeper understanding of the trends and patterns within the Netflix library and offer valuable insights for both viewers and content creators. So sit back, grab some popcorn, and join me on this journey into the world of Netflix!"
   ]
  },
  {
   "cell_type": "markdown",
   "metadata": {},
   "source": [
    "## Downloading the Dataset\n",
    "\n",
    "We can use a helper library, e.g., opendatasets, which contains a collection of curated datasets and provides a helper function for direct download."
   ]
  },
  {
   "cell_type": "code",
   "execution_count": 1,
   "metadata": {},
   "outputs": [
    {
     "name": "stderr",
     "output_type": "stream",
     "text": [
      "\n",
      "[notice] A new release of pip is available: 23.1.2 -> 23.2\n",
      "[notice] To update, run: python.exe -m pip install --upgrade pip\n"
     ]
    }
   ],
   "source": [
    "!pip install jovian opendatasets --upgrade --quiet"
   ]
  },
  {
   "cell_type": "markdown",
   "metadata": {},
   "source": [
    "Let's begin by downloading the data, and listing the files within the dataset."
   ]
  },
  {
   "cell_type": "code",
   "execution_count": 2,
   "metadata": {},
   "outputs": [],
   "source": [
    "dataset_url='https://www.kaggle.com/datasets/dgoenrique/netflix-movies-and-tv-shows'"
   ]
  },
  {
   "cell_type": "code",
   "execution_count": null,
   "metadata": {},
   "outputs": [],
   "source": [
    " "
   ]
  },
  {
   "cell_type": "markdown",
   "metadata": {},
   "source": [
    "The dataset has been downloaded and extracted."
   ]
  },
  {
   "cell_type": "code",
   "execution_count": 3,
   "metadata": {},
   "outputs": [],
   "source": [
    "data_dir = './netflix-movies-and-tv-shows'"
   ]
  },
  {
   "cell_type": "code",
   "execution_count": 4,
   "metadata": {},
   "outputs": [
    {
     "data": {
      "text/plain": [
       "['credits.csv', 'titles.csv']"
      ]
     },
     "execution_count": 4,
     "metadata": {},
     "output_type": "execute_result"
    }
   ],
   "source": [
    "import os\n",
    "os.listdir(data_dir)"
   ]
  },
  {
   "cell_type": "markdown",
   "metadata": {},
   "source": [
    "Let us save and upload our work to Jovian before continuing."
   ]
  },
  {
   "cell_type": "code",
   "execution_count": 5,
   "metadata": {},
   "outputs": [],
   "source": [
    "project_name = \"zerotopandas-course-project-starter\" # change this (use lowercase letters and hyphens only)"
   ]
  },
  {
   "cell_type": "code",
   "execution_count": 6,
   "metadata": {},
   "outputs": [
    {
     "name": "stderr",
     "output_type": "stream",
     "text": [
      "\n",
      "[notice] A new release of pip is available: 23.1.2 -> 23.2\n",
      "[notice] To update, run: python.exe -m pip install --upgrade pip\n"
     ]
    }
   ],
   "source": [
    "!pip install jovian --upgrade -q"
   ]
  },
  {
   "cell_type": "code",
   "execution_count": 7,
   "metadata": {},
   "outputs": [],
   "source": [
    "import jovian"
   ]
  },
  {
   "cell_type": "code",
   "execution_count": 8,
   "metadata": {},
   "outputs": [
    {
     "data": {
      "application/javascript": [
       "window.require && require([\"base/js/namespace\"],function(Jupyter){Jupyter.notebook.save_checkpoint()})"
      ],
      "text/plain": [
       "<IPython.core.display.Javascript object>"
      ]
     },
     "metadata": {},
     "output_type": "display_data"
    },
    {
     "name": "stderr",
     "output_type": "stream",
     "text": [
      "\u001b[31m[jovian] Error: The current API key is invalid or expired.\u001b[0m\n"
     ]
    },
    {
     "name": "stdout",
     "output_type": "stream",
     "text": [
      "[jovian] Please enter your API key ( from https://jovian.com/ ):\u001b[0m\n",
      "API KEY: ········\n"
     ]
    },
    {
     "name": "stderr",
     "output_type": "stream",
     "text": [
      "\u001b[31m[jovian] Error: The current API key is invalid or expired.\u001b[0m\n"
     ]
    },
    {
     "name": "stdout",
     "output_type": "stream",
     "text": [
      "[jovian] Please enter your API key ( from https://jovian.com/ ):\u001b[0m\n",
      "API KEY: ········\n"
     ]
    },
    {
     "ename": "ApiError",
     "evalue": "The API key provided is invalid or expired.",
     "output_type": "error",
     "traceback": [
      "\u001b[1;31m---------------------------------------------------------------------------\u001b[0m",
      "\u001b[1;31mApiError\u001b[0m                                  Traceback (most recent call last)",
      "Cell \u001b[1;32mIn[8], line 1\u001b[0m\n\u001b[1;32m----> 1\u001b[0m \u001b[43mjovian\u001b[49m\u001b[38;5;241;43m.\u001b[39;49m\u001b[43mcommit\u001b[49m\u001b[43m(\u001b[49m\u001b[43mproject\u001b[49m\u001b[38;5;241;43m=\u001b[39;49m\u001b[43mproject_name\u001b[49m\u001b[43m)\u001b[49m\n",
      "File \u001b[1;32m~\\AppData\\Local\\Programs\\Python\\Python311\\Lib\\site-packages\\jovian\\utils\\commit.py:199\u001b[0m, in \u001b[0;36mcommit\u001b[1;34m(message, files, outputs, environment, privacy, filename, project, new_project, git_commit, git_message, require_write_access, **kwargs)\u001b[0m\n\u001b[0;32m    196\u001b[0m     \u001b[38;5;28;01mreturn\u001b[39;00m\n\u001b[0;32m    198\u001b[0m \u001b[38;5;66;03m# Retrieve Gist ID & title\u001b[39;00m\n\u001b[1;32m--> 199\u001b[0m project_title, project_id \u001b[38;5;241m=\u001b[39m \u001b[43m_parse_project\u001b[49m\u001b[43m(\u001b[49m\u001b[43mproject\u001b[49m\u001b[43m,\u001b[49m\u001b[43m \u001b[49m\u001b[43mfilename\u001b[49m\u001b[43m,\u001b[49m\u001b[43m \u001b[49m\u001b[43mnew_project\u001b[49m\u001b[43m)\u001b[49m\n\u001b[0;32m    200\u001b[0m \u001b[38;5;28;01mif\u001b[39;00m \u001b[38;5;129;01mnot\u001b[39;00m project_id \u001b[38;5;129;01mand\u001b[39;00m require_write_access:\n\u001b[0;32m    201\u001b[0m     \u001b[38;5;28;01mreturn\u001b[39;00m\n",
      "File \u001b[1;32m~\\AppData\\Local\\Programs\\Python\\Python311\\Lib\\site-packages\\jovian\\utils\\commit.py:300\u001b[0m, in \u001b[0;36m_parse_project\u001b[1;34m(project, filename, new_project)\u001b[0m\n\u001b[0;32m    297\u001b[0m \u001b[38;5;66;03m# Attach username to the title\u001b[39;00m\n\u001b[0;32m    298\u001b[0m \u001b[38;5;28;01melse\u001b[39;00m:\n\u001b[0;32m    299\u001b[0m     project_title \u001b[38;5;241m=\u001b[39m project\n\u001b[1;32m--> 300\u001b[0m     username \u001b[38;5;241m=\u001b[39m \u001b[43mapi\u001b[49m\u001b[38;5;241;43m.\u001b[39;49m\u001b[43mget_current_user\u001b[49m\u001b[43m(\u001b[49m\u001b[43m)\u001b[49m[\u001b[38;5;124m'\u001b[39m\u001b[38;5;124musername\u001b[39m\u001b[38;5;124m'\u001b[39m]\n\u001b[0;32m    301\u001b[0m     metadata \u001b[38;5;241m=\u001b[39m api\u001b[38;5;241m.\u001b[39mget_gist(username \u001b[38;5;241m+\u001b[39m \u001b[38;5;124m'\u001b[39m\u001b[38;5;124m/\u001b[39m\u001b[38;5;124m'\u001b[39m \u001b[38;5;241m+\u001b[39m project)\n\u001b[0;32m    303\u001b[0m \u001b[38;5;66;03m# Skip if metadata could not be found\u001b[39;00m\n",
      "File \u001b[1;32m~\\AppData\\Local\\Programs\\Python\\Python311\\Lib\\site-packages\\jovian\\utils\\api.py:20\u001b[0m, in \u001b[0;36mget_current_user\u001b[1;34m()\u001b[0m\n\u001b[0;32m     19\u001b[0m \u001b[38;5;28;01mdef\u001b[39;00m \u001b[38;5;21mget_current_user\u001b[39m():\n\u001b[1;32m---> 20\u001b[0m     res \u001b[38;5;241m=\u001b[39m \u001b[43mget\u001b[49m\u001b[43m(\u001b[49m\u001b[43murl\u001b[49m\u001b[38;5;241;43m=\u001b[39;49m\u001b[43m_u\u001b[49m\u001b[43m(\u001b[49m\u001b[38;5;124;43m'\u001b[39;49m\u001b[38;5;124;43m/user/profile\u001b[39;49m\u001b[38;5;124;43m'\u001b[39;49m\u001b[43m)\u001b[49m\u001b[43m,\u001b[49m\u001b[43m \u001b[49m\u001b[43mheaders\u001b[49m\u001b[38;5;241;43m=\u001b[39;49m\u001b[43m_h\u001b[49m\u001b[43m(\u001b[49m\u001b[43m)\u001b[49m\u001b[43m)\u001b[49m\n\u001b[0;32m     21\u001b[0m     \u001b[38;5;28;01mif\u001b[39;00m res\u001b[38;5;241m.\u001b[39mstatus_code \u001b[38;5;241m==\u001b[39m \u001b[38;5;241m200\u001b[39m:\n\u001b[0;32m     22\u001b[0m         \u001b[38;5;28;01mreturn\u001b[39;00m res\u001b[38;5;241m.\u001b[39mjson()[\u001b[38;5;124m'\u001b[39m\u001b[38;5;124mdata\u001b[39m\u001b[38;5;124m'\u001b[39m]\n",
      "File \u001b[1;32m~\\AppData\\Local\\Programs\\Python\\Python311\\Lib\\site-packages\\jovian\\utils\\request.py:21\u001b[0m, in \u001b[0;36mretry.<locals>._request_wrapper\u001b[1;34m(*args, **kwargs)\u001b[0m\n\u001b[0;32m     19\u001b[0m     \u001b[38;5;66;03m# This will ensure that fresh api token is requested\u001b[39;00m\n\u001b[0;32m     20\u001b[0m     \u001b[38;5;28;01mif\u001b[39;00m \u001b[38;5;124m'\u001b[39m\u001b[38;5;124mheaders\u001b[39m\u001b[38;5;124m'\u001b[39m \u001b[38;5;129;01min\u001b[39;00m kwargs:\n\u001b[1;32m---> 21\u001b[0m         kwargs[\u001b[38;5;124m'\u001b[39m\u001b[38;5;124mheaders\u001b[39m\u001b[38;5;124m'\u001b[39m][\u001b[38;5;124m'\u001b[39m\u001b[38;5;124mAuthorization\u001b[39m\u001b[38;5;124m'\u001b[39m] \u001b[38;5;241m=\u001b[39m \u001b[38;5;124m\"\u001b[39m\u001b[38;5;124mBearer \u001b[39m\u001b[38;5;124m\"\u001b[39m \u001b[38;5;241m+\u001b[39m \u001b[43mget_api_key\u001b[49m\u001b[43m(\u001b[49m\u001b[43m)\u001b[49m\n\u001b[0;32m     22\u001b[0m \u001b[38;5;28;01melse\u001b[39;00m:\n\u001b[0;32m     23\u001b[0m     \u001b[38;5;28;01mreturn\u001b[39;00m res\n",
      "File \u001b[1;32m~\\AppData\\Local\\Programs\\Python\\Python311\\Lib\\site-packages\\jovian\\utils\\credentials.py:270\u001b[0m, in \u001b[0;36mget_api_key\u001b[1;34m()\u001b[0m\n\u001b[0;32m    268\u001b[0m     key, _ \u001b[38;5;241m=\u001b[39m request_api_key(), \u001b[38;5;124m'\u001b[39m\u001b[38;5;124mrequest\u001b[39m\u001b[38;5;124m'\u001b[39m\n\u001b[0;32m    269\u001b[0m     \u001b[38;5;28;01mif\u001b[39;00m \u001b[38;5;129;01mnot\u001b[39;00m validate_api_key(key):\n\u001b[1;32m--> 270\u001b[0m         \u001b[38;5;28;01mraise\u001b[39;00m ApiError(\u001b[38;5;124m'\u001b[39m\u001b[38;5;124mThe API key provided is invalid or expired.\u001b[39m\u001b[38;5;124m'\u001b[39m)\n\u001b[0;32m    271\u001b[0m write_api_key(key)\n\u001b[0;32m    272\u001b[0m \u001b[38;5;28;01mreturn\u001b[39;00m key\n",
      "\u001b[1;31mApiError\u001b[0m: The API key provided is invalid or expired."
     ]
    }
   ],
   "source": [
    "jovian.commit(project=project_name)"
   ]
  },
  {
   "cell_type": "markdown",
   "metadata": {},
   "source": [
    "## Data Preparation and Cleaning\n",
    "\n",
    "Data preparation and cleaning are essential steps in the Exploratory Data Analysis (EDA) process. They involve transforming, cleaning, and organizing the raw data so that it can be easily analyzed and visualized.\n",
    "\n",
    "The following are some important steps in data preparation and cleaning in EDA:\n",
    "\n",
    "- Data loading: The first step is to load the data into the analysis environment\n",
    "\n",
    "- Handling missing values: It is important to identify and handle missing values in the data. Missing values can be imputed or removed depending on the amount of missing data and the nature of the analysis.\n",
    "\n",
    "- Handling outliers: Outliers are data points that are significantly different from the rest of the data. Outliers can be identified and removed or transformed, depending on the nature of the analysis.\n",
    "\n",
    "- Data integration: Data integration involves merging multiple datasets into a single dataset for analysis. This can be done using join or merge operations.\n",
    "\n",
    "- Data sampling: Data sampling involves selecting a subset of data from the entire dataset to work with. This can be done for a variety of reasons, such as reducing computation time or balancing imbalanced datasets.\n"
   ]
  },
  {
   "cell_type": "code",
   "execution_count": null,
   "metadata": {},
   "outputs": [],
   "source": [
    "import pandas as pd"
   ]
  },
  {
   "cell_type": "code",
   "execution_count": null,
   "metadata": {},
   "outputs": [],
   "source": [
    "credits_raw_df = pd.read_csv('netflix-movies-and-tv-shows/credits.csv')"
   ]
  },
  {
   "cell_type": "code",
   "execution_count": 198,
   "metadata": {},
   "outputs": [
    {
     "data": {
      "text/html": [
       "<div>\n",
       "<style scoped>\n",
       "    .dataframe tbody tr th:only-of-type {\n",
       "        vertical-align: middle;\n",
       "    }\n",
       "\n",
       "    .dataframe tbody tr th {\n",
       "        vertical-align: top;\n",
       "    }\n",
       "\n",
       "    .dataframe thead th {\n",
       "        text-align: right;\n",
       "    }\n",
       "</style>\n",
       "<table border=\"1\" class=\"dataframe\">\n",
       "  <thead>\n",
       "    <tr style=\"text-align: right;\">\n",
       "      <th></th>\n",
       "      <th>person_id</th>\n",
       "      <th>id</th>\n",
       "      <th>name</th>\n",
       "      <th>character</th>\n",
       "      <th>role</th>\n",
       "    </tr>\n",
       "  </thead>\n",
       "  <tbody>\n",
       "    <tr>\n",
       "      <th>0</th>\n",
       "      <td>3180</td>\n",
       "      <td>tm82169</td>\n",
       "      <td>Sylvester Stallone</td>\n",
       "      <td>Robert \"Rocky\" Balboa</td>\n",
       "      <td>ACTOR</td>\n",
       "    </tr>\n",
       "    <tr>\n",
       "      <th>1</th>\n",
       "      <td>7748</td>\n",
       "      <td>tm82169</td>\n",
       "      <td>Talia Shire</td>\n",
       "      <td>Adrianna \"Adrian\" Pennino</td>\n",
       "      <td>ACTOR</td>\n",
       "    </tr>\n",
       "    <tr>\n",
       "      <th>2</th>\n",
       "      <td>7749</td>\n",
       "      <td>tm82169</td>\n",
       "      <td>Burt Young</td>\n",
       "      <td>Paulie Pennino</td>\n",
       "      <td>ACTOR</td>\n",
       "    </tr>\n",
       "    <tr>\n",
       "      <th>3</th>\n",
       "      <td>7750</td>\n",
       "      <td>tm82169</td>\n",
       "      <td>Carl Weathers</td>\n",
       "      <td>Apollo Creed</td>\n",
       "      <td>ACTOR</td>\n",
       "    </tr>\n",
       "    <tr>\n",
       "      <th>4</th>\n",
       "      <td>7751</td>\n",
       "      <td>tm82169</td>\n",
       "      <td>Burgess Meredith</td>\n",
       "      <td>Mickey Goldmill</td>\n",
       "      <td>ACTOR</td>\n",
       "    </tr>\n",
       "    <tr>\n",
       "      <th>...</th>\n",
       "      <td>...</td>\n",
       "      <td>...</td>\n",
       "      <td>...</td>\n",
       "      <td>...</td>\n",
       "      <td>...</td>\n",
       "    </tr>\n",
       "    <tr>\n",
       "      <th>81350</th>\n",
       "      <td>449518</td>\n",
       "      <td>tm1072700</td>\n",
       "      <td>Kayode Olaiya</td>\n",
       "      <td>Uncle Adio</td>\n",
       "      <td>ACTOR</td>\n",
       "    </tr>\n",
       "    <tr>\n",
       "      <th>81351</th>\n",
       "      <td>2722717</td>\n",
       "      <td>tm1072700</td>\n",
       "      <td>Tolu Osaile</td>\n",
       "      <td>Sade</td>\n",
       "      <td>ACTOR</td>\n",
       "    </tr>\n",
       "    <tr>\n",
       "      <th>81352</th>\n",
       "      <td>2722797</td>\n",
       "      <td>tm1072700</td>\n",
       "      <td>Eniola Oyetola</td>\n",
       "      <td>Officer Meks</td>\n",
       "      <td>ACTOR</td>\n",
       "    </tr>\n",
       "    <tr>\n",
       "      <th>81353</th>\n",
       "      <td>866314</td>\n",
       "      <td>tm1072700</td>\n",
       "      <td>Tope Tedela</td>\n",
       "      <td>Officer Jack</td>\n",
       "      <td>ACTOR</td>\n",
       "    </tr>\n",
       "    <tr>\n",
       "      <th>81354</th>\n",
       "      <td>1807691</td>\n",
       "      <td>tm1072700</td>\n",
       "      <td>Taiwo Egunjobi</td>\n",
       "      <td>NaN</td>\n",
       "      <td>DIRECTOR</td>\n",
       "    </tr>\n",
       "  </tbody>\n",
       "</table>\n",
       "<p>81355 rows × 5 columns</p>\n",
       "</div>"
      ],
      "text/plain": [
       "       person_id         id                name                  character   \n",
       "0           3180    tm82169  Sylvester Stallone      Robert \"Rocky\" Balboa  \\\n",
       "1           7748    tm82169         Talia Shire  Adrianna \"Adrian\" Pennino   \n",
       "2           7749    tm82169          Burt Young             Paulie Pennino   \n",
       "3           7750    tm82169       Carl Weathers               Apollo Creed   \n",
       "4           7751    tm82169    Burgess Meredith            Mickey Goldmill   \n",
       "...          ...        ...                 ...                        ...   \n",
       "81350     449518  tm1072700       Kayode Olaiya                 Uncle Adio   \n",
       "81351    2722717  tm1072700         Tolu Osaile                       Sade   \n",
       "81352    2722797  tm1072700      Eniola Oyetola               Officer Meks   \n",
       "81353     866314  tm1072700         Tope Tedela               Officer Jack   \n",
       "81354    1807691  tm1072700      Taiwo Egunjobi                        NaN   \n",
       "\n",
       "           role  \n",
       "0         ACTOR  \n",
       "1         ACTOR  \n",
       "2         ACTOR  \n",
       "3         ACTOR  \n",
       "4         ACTOR  \n",
       "...         ...  \n",
       "81350     ACTOR  \n",
       "81351     ACTOR  \n",
       "81352     ACTOR  \n",
       "81353     ACTOR  \n",
       "81354  DIRECTOR  \n",
       "\n",
       "[81355 rows x 5 columns]"
      ]
     },
     "execution_count": 198,
     "metadata": {},
     "output_type": "execute_result"
    }
   ],
   "source": [
    "credits_raw_df"
   ]
  },
  {
   "cell_type": "code",
   "execution_count": 199,
   "metadata": {},
   "outputs": [],
   "source": [
    "titles_raw_df = pd.read_csv('netflix-movies-and-tv-shows/titles.csv')"
   ]
  },
  {
   "cell_type": "code",
   "execution_count": 200,
   "metadata": {
    "scrolled": true
   },
   "outputs": [
    {
     "data": {
      "text/html": [
       "<div>\n",
       "<style scoped>\n",
       "    .dataframe tbody tr th:only-of-type {\n",
       "        vertical-align: middle;\n",
       "    }\n",
       "\n",
       "    .dataframe tbody tr th {\n",
       "        vertical-align: top;\n",
       "    }\n",
       "\n",
       "    .dataframe thead th {\n",
       "        text-align: right;\n",
       "    }\n",
       "</style>\n",
       "<table border=\"1\" class=\"dataframe\">\n",
       "  <thead>\n",
       "    <tr style=\"text-align: right;\">\n",
       "      <th></th>\n",
       "      <th>id</th>\n",
       "      <th>title</th>\n",
       "      <th>type</th>\n",
       "      <th>description</th>\n",
       "      <th>release_year</th>\n",
       "      <th>age_certification</th>\n",
       "      <th>runtime</th>\n",
       "      <th>genres</th>\n",
       "      <th>production_countries</th>\n",
       "      <th>seasons</th>\n",
       "      <th>imdb_id</th>\n",
       "      <th>imdb_score</th>\n",
       "      <th>imdb_votes</th>\n",
       "      <th>tmdb_popularity</th>\n",
       "      <th>tmdb_score</th>\n",
       "    </tr>\n",
       "  </thead>\n",
       "  <tbody>\n",
       "    <tr>\n",
       "      <th>0</th>\n",
       "      <td>ts300399</td>\n",
       "      <td>Five Came Back: The Reference Films</td>\n",
       "      <td>SHOW</td>\n",
       "      <td>This collection includes 12 World War II-era p...</td>\n",
       "      <td>1945</td>\n",
       "      <td>TV-MA</td>\n",
       "      <td>51</td>\n",
       "      <td>['documentation']</td>\n",
       "      <td>['US']</td>\n",
       "      <td>1.0</td>\n",
       "      <td>NaN</td>\n",
       "      <td>NaN</td>\n",
       "      <td>NaN</td>\n",
       "      <td>0.601</td>\n",
       "      <td>NaN</td>\n",
       "    </tr>\n",
       "    <tr>\n",
       "      <th>1</th>\n",
       "      <td>tm82169</td>\n",
       "      <td>Rocky</td>\n",
       "      <td>MOVIE</td>\n",
       "      <td>When world heavyweight boxing champion, Apollo...</td>\n",
       "      <td>1976</td>\n",
       "      <td>PG</td>\n",
       "      <td>119</td>\n",
       "      <td>['drama', 'sport']</td>\n",
       "      <td>['US']</td>\n",
       "      <td>NaN</td>\n",
       "      <td>tt0075148</td>\n",
       "      <td>8.1</td>\n",
       "      <td>588100.0</td>\n",
       "      <td>106.361</td>\n",
       "      <td>7.782</td>\n",
       "    </tr>\n",
       "    <tr>\n",
       "      <th>2</th>\n",
       "      <td>tm17823</td>\n",
       "      <td>Grease</td>\n",
       "      <td>MOVIE</td>\n",
       "      <td>Australian good girl Sandy and greaser Danny f...</td>\n",
       "      <td>1978</td>\n",
       "      <td>PG</td>\n",
       "      <td>110</td>\n",
       "      <td>['romance', 'comedy']</td>\n",
       "      <td>['US']</td>\n",
       "      <td>NaN</td>\n",
       "      <td>tt0077631</td>\n",
       "      <td>7.2</td>\n",
       "      <td>283316.0</td>\n",
       "      <td>33.160</td>\n",
       "      <td>7.406</td>\n",
       "    </tr>\n",
       "    <tr>\n",
       "      <th>3</th>\n",
       "      <td>tm191099</td>\n",
       "      <td>The Sting</td>\n",
       "      <td>MOVIE</td>\n",
       "      <td>A novice con man teams up with an acknowledged...</td>\n",
       "      <td>1973</td>\n",
       "      <td>PG</td>\n",
       "      <td>129</td>\n",
       "      <td>['crime', 'drama', 'comedy', 'music']</td>\n",
       "      <td>['US']</td>\n",
       "      <td>NaN</td>\n",
       "      <td>tt0070735</td>\n",
       "      <td>8.3</td>\n",
       "      <td>266738.0</td>\n",
       "      <td>24.616</td>\n",
       "      <td>8.020</td>\n",
       "    </tr>\n",
       "    <tr>\n",
       "      <th>4</th>\n",
       "      <td>tm69975</td>\n",
       "      <td>Rocky II</td>\n",
       "      <td>MOVIE</td>\n",
       "      <td>After Rocky goes the distance with champ Apoll...</td>\n",
       "      <td>1979</td>\n",
       "      <td>PG</td>\n",
       "      <td>119</td>\n",
       "      <td>['drama', 'sport']</td>\n",
       "      <td>['US']</td>\n",
       "      <td>NaN</td>\n",
       "      <td>tt0079817</td>\n",
       "      <td>7.3</td>\n",
       "      <td>216307.0</td>\n",
       "      <td>75.699</td>\n",
       "      <td>7.246</td>\n",
       "    </tr>\n",
       "    <tr>\n",
       "      <th>...</th>\n",
       "      <td>...</td>\n",
       "      <td>...</td>\n",
       "      <td>...</td>\n",
       "      <td>...</td>\n",
       "      <td>...</td>\n",
       "      <td>...</td>\n",
       "      <td>...</td>\n",
       "      <td>...</td>\n",
       "      <td>...</td>\n",
       "      <td>...</td>\n",
       "      <td>...</td>\n",
       "      <td>...</td>\n",
       "      <td>...</td>\n",
       "      <td>...</td>\n",
       "      <td>...</td>\n",
       "    </tr>\n",
       "    <tr>\n",
       "      <th>6132</th>\n",
       "      <td>tm1303784</td>\n",
       "      <td>عبود في البيت</td>\n",
       "      <td>MOVIE</td>\n",
       "      <td>Two young boys must work together to stop robb...</td>\n",
       "      <td>2023</td>\n",
       "      <td>NaN</td>\n",
       "      <td>81</td>\n",
       "      <td>['family', 'comedy']</td>\n",
       "      <td>['KW']</td>\n",
       "      <td>NaN</td>\n",
       "      <td>NaN</td>\n",
       "      <td>NaN</td>\n",
       "      <td>NaN</td>\n",
       "      <td>3.351</td>\n",
       "      <td>2.000</td>\n",
       "    </tr>\n",
       "    <tr>\n",
       "      <th>6133</th>\n",
       "      <td>tm1260999</td>\n",
       "      <td>Sweetie</td>\n",
       "      <td>MOVIE</td>\n",
       "      <td>‘Theatre is my life,’ Yıldız Kenter admits in ...</td>\n",
       "      <td>2023</td>\n",
       "      <td>NaN</td>\n",
       "      <td>120</td>\n",
       "      <td>['documentation']</td>\n",
       "      <td>['TR']</td>\n",
       "      <td>NaN</td>\n",
       "      <td>tt26349328</td>\n",
       "      <td>7.9</td>\n",
       "      <td>209.0</td>\n",
       "      <td>2.450</td>\n",
       "      <td>7.200</td>\n",
       "    </tr>\n",
       "    <tr>\n",
       "      <th>6134</th>\n",
       "      <td>tm1310286</td>\n",
       "      <td>Sommore: Queen Chandelier</td>\n",
       "      <td>MOVIE</td>\n",
       "      <td>This Queen of Comedy shines as she takes the s...</td>\n",
       "      <td>2023</td>\n",
       "      <td>NaN</td>\n",
       "      <td>69</td>\n",
       "      <td>['comedy']</td>\n",
       "      <td>['US']</td>\n",
       "      <td>NaN</td>\n",
       "      <td>tt21033382</td>\n",
       "      <td>6.1</td>\n",
       "      <td>91.0</td>\n",
       "      <td>1.960</td>\n",
       "      <td>NaN</td>\n",
       "    </tr>\n",
       "    <tr>\n",
       "      <th>6135</th>\n",
       "      <td>tm1072700</td>\n",
       "      <td>All Na Vibes</td>\n",
       "      <td>MOVIE</td>\n",
       "      <td>The lives of three teenagers and a hit-man int...</td>\n",
       "      <td>2023</td>\n",
       "      <td>NaN</td>\n",
       "      <td>80</td>\n",
       "      <td>['drama']</td>\n",
       "      <td>['NG']</td>\n",
       "      <td>NaN</td>\n",
       "      <td>tt14922926</td>\n",
       "      <td>5.2</td>\n",
       "      <td>18.0</td>\n",
       "      <td>1.357</td>\n",
       "      <td>4.000</td>\n",
       "    </tr>\n",
       "    <tr>\n",
       "      <th>6136</th>\n",
       "      <td>tm561709</td>\n",
       "      <td>Going to Heaven</td>\n",
       "      <td>MOVIE</td>\n",
       "      <td>A story about young boy sultan, 11 years old l...</td>\n",
       "      <td>2023</td>\n",
       "      <td>NaN</td>\n",
       "      <td>90</td>\n",
       "      <td>['family']</td>\n",
       "      <td>['AE']</td>\n",
       "      <td>NaN</td>\n",
       "      <td>tt4623222</td>\n",
       "      <td>7.0</td>\n",
       "      <td>40.0</td>\n",
       "      <td>NaN</td>\n",
       "      <td>NaN</td>\n",
       "    </tr>\n",
       "  </tbody>\n",
       "</table>\n",
       "<p>6137 rows × 15 columns</p>\n",
       "</div>"
      ],
      "text/plain": [
       "             id                                title   type   \n",
       "0      ts300399  Five Came Back: The Reference Films   SHOW  \\\n",
       "1       tm82169                                Rocky  MOVIE   \n",
       "2       tm17823                               Grease  MOVIE   \n",
       "3      tm191099                            The Sting  MOVIE   \n",
       "4       tm69975                             Rocky II  MOVIE   \n",
       "...         ...                                  ...    ...   \n",
       "6132  tm1303784                        عبود في البيت  MOVIE   \n",
       "6133  tm1260999                              Sweetie  MOVIE   \n",
       "6134  tm1310286            Sommore: Queen Chandelier  MOVIE   \n",
       "6135  tm1072700                         All Na Vibes  MOVIE   \n",
       "6136   tm561709                      Going to Heaven  MOVIE   \n",
       "\n",
       "                                            description  release_year   \n",
       "0     This collection includes 12 World War II-era p...          1945  \\\n",
       "1     When world heavyweight boxing champion, Apollo...          1976   \n",
       "2     Australian good girl Sandy and greaser Danny f...          1978   \n",
       "3     A novice con man teams up with an acknowledged...          1973   \n",
       "4     After Rocky goes the distance with champ Apoll...          1979   \n",
       "...                                                 ...           ...   \n",
       "6132  Two young boys must work together to stop robb...          2023   \n",
       "6133  ‘Theatre is my life,’ Yıldız Kenter admits in ...          2023   \n",
       "6134  This Queen of Comedy shines as she takes the s...          2023   \n",
       "6135  The lives of three teenagers and a hit-man int...          2023   \n",
       "6136  A story about young boy sultan, 11 years old l...          2023   \n",
       "\n",
       "     age_certification  runtime                                 genres   \n",
       "0                TV-MA       51                      ['documentation']  \\\n",
       "1                   PG      119                     ['drama', 'sport']   \n",
       "2                   PG      110                  ['romance', 'comedy']   \n",
       "3                   PG      129  ['crime', 'drama', 'comedy', 'music']   \n",
       "4                   PG      119                     ['drama', 'sport']   \n",
       "...                ...      ...                                    ...   \n",
       "6132               NaN       81                   ['family', 'comedy']   \n",
       "6133               NaN      120                      ['documentation']   \n",
       "6134               NaN       69                             ['comedy']   \n",
       "6135               NaN       80                              ['drama']   \n",
       "6136               NaN       90                             ['family']   \n",
       "\n",
       "     production_countries  seasons     imdb_id  imdb_score  imdb_votes   \n",
       "0                  ['US']      1.0         NaN         NaN         NaN  \\\n",
       "1                  ['US']      NaN   tt0075148         8.1    588100.0   \n",
       "2                  ['US']      NaN   tt0077631         7.2    283316.0   \n",
       "3                  ['US']      NaN   tt0070735         8.3    266738.0   \n",
       "4                  ['US']      NaN   tt0079817         7.3    216307.0   \n",
       "...                   ...      ...         ...         ...         ...   \n",
       "6132               ['KW']      NaN         NaN         NaN         NaN   \n",
       "6133               ['TR']      NaN  tt26349328         7.9       209.0   \n",
       "6134               ['US']      NaN  tt21033382         6.1        91.0   \n",
       "6135               ['NG']      NaN  tt14922926         5.2        18.0   \n",
       "6136               ['AE']      NaN   tt4623222         7.0        40.0   \n",
       "\n",
       "      tmdb_popularity  tmdb_score  \n",
       "0               0.601         NaN  \n",
       "1             106.361       7.782  \n",
       "2              33.160       7.406  \n",
       "3              24.616       8.020  \n",
       "4              75.699       7.246  \n",
       "...               ...         ...  \n",
       "6132            3.351       2.000  \n",
       "6133            2.450       7.200  \n",
       "6134            1.960         NaN  \n",
       "6135            1.357       4.000  \n",
       "6136              NaN         NaN  \n",
       "\n",
       "[6137 rows x 15 columns]"
      ]
     },
     "execution_count": 200,
     "metadata": {},
     "output_type": "execute_result"
    }
   ],
   "source": [
    "titles_raw_df"
   ]
  },
  {
   "cell_type": "code",
   "execution_count": 201,
   "metadata": {
    "scrolled": true
   },
   "outputs": [
    {
     "data": {
      "text/html": [
       "<div>\n",
       "<style scoped>\n",
       "    .dataframe tbody tr th:only-of-type {\n",
       "        vertical-align: middle;\n",
       "    }\n",
       "\n",
       "    .dataframe tbody tr th {\n",
       "        vertical-align: top;\n",
       "    }\n",
       "\n",
       "    .dataframe thead th {\n",
       "        text-align: right;\n",
       "    }\n",
       "</style>\n",
       "<table border=\"1\" class=\"dataframe\">\n",
       "  <thead>\n",
       "    <tr style=\"text-align: right;\">\n",
       "      <th></th>\n",
       "      <th>person_id</th>\n",
       "      <th>id</th>\n",
       "      <th>name</th>\n",
       "      <th>character</th>\n",
       "      <th>role</th>\n",
       "      <th>title</th>\n",
       "      <th>type</th>\n",
       "      <th>description</th>\n",
       "      <th>release_year</th>\n",
       "      <th>age_certification</th>\n",
       "      <th>runtime</th>\n",
       "      <th>genres</th>\n",
       "      <th>production_countries</th>\n",
       "      <th>seasons</th>\n",
       "      <th>imdb_id</th>\n",
       "      <th>imdb_score</th>\n",
       "      <th>imdb_votes</th>\n",
       "      <th>tmdb_popularity</th>\n",
       "      <th>tmdb_score</th>\n",
       "    </tr>\n",
       "  </thead>\n",
       "  <tbody>\n",
       "    <tr>\n",
       "      <th>0</th>\n",
       "      <td>3180</td>\n",
       "      <td>tm82169</td>\n",
       "      <td>Sylvester Stallone</td>\n",
       "      <td>Robert \"Rocky\" Balboa</td>\n",
       "      <td>ACTOR</td>\n",
       "      <td>Rocky</td>\n",
       "      <td>MOVIE</td>\n",
       "      <td>When world heavyweight boxing champion, Apollo...</td>\n",
       "      <td>1976</td>\n",
       "      <td>PG</td>\n",
       "      <td>119</td>\n",
       "      <td>['drama', 'sport']</td>\n",
       "      <td>['US']</td>\n",
       "      <td>NaN</td>\n",
       "      <td>tt0075148</td>\n",
       "      <td>8.1</td>\n",
       "      <td>588100.0</td>\n",
       "      <td>106.361</td>\n",
       "      <td>7.782</td>\n",
       "    </tr>\n",
       "    <tr>\n",
       "      <th>1</th>\n",
       "      <td>7748</td>\n",
       "      <td>tm82169</td>\n",
       "      <td>Talia Shire</td>\n",
       "      <td>Adrianna \"Adrian\" Pennino</td>\n",
       "      <td>ACTOR</td>\n",
       "      <td>Rocky</td>\n",
       "      <td>MOVIE</td>\n",
       "      <td>When world heavyweight boxing champion, Apollo...</td>\n",
       "      <td>1976</td>\n",
       "      <td>PG</td>\n",
       "      <td>119</td>\n",
       "      <td>['drama', 'sport']</td>\n",
       "      <td>['US']</td>\n",
       "      <td>NaN</td>\n",
       "      <td>tt0075148</td>\n",
       "      <td>8.1</td>\n",
       "      <td>588100.0</td>\n",
       "      <td>106.361</td>\n",
       "      <td>7.782</td>\n",
       "    </tr>\n",
       "    <tr>\n",
       "      <th>2</th>\n",
       "      <td>7749</td>\n",
       "      <td>tm82169</td>\n",
       "      <td>Burt Young</td>\n",
       "      <td>Paulie Pennino</td>\n",
       "      <td>ACTOR</td>\n",
       "      <td>Rocky</td>\n",
       "      <td>MOVIE</td>\n",
       "      <td>When world heavyweight boxing champion, Apollo...</td>\n",
       "      <td>1976</td>\n",
       "      <td>PG</td>\n",
       "      <td>119</td>\n",
       "      <td>['drama', 'sport']</td>\n",
       "      <td>['US']</td>\n",
       "      <td>NaN</td>\n",
       "      <td>tt0075148</td>\n",
       "      <td>8.1</td>\n",
       "      <td>588100.0</td>\n",
       "      <td>106.361</td>\n",
       "      <td>7.782</td>\n",
       "    </tr>\n",
       "    <tr>\n",
       "      <th>3</th>\n",
       "      <td>7750</td>\n",
       "      <td>tm82169</td>\n",
       "      <td>Carl Weathers</td>\n",
       "      <td>Apollo Creed</td>\n",
       "      <td>ACTOR</td>\n",
       "      <td>Rocky</td>\n",
       "      <td>MOVIE</td>\n",
       "      <td>When world heavyweight boxing champion, Apollo...</td>\n",
       "      <td>1976</td>\n",
       "      <td>PG</td>\n",
       "      <td>119</td>\n",
       "      <td>['drama', 'sport']</td>\n",
       "      <td>['US']</td>\n",
       "      <td>NaN</td>\n",
       "      <td>tt0075148</td>\n",
       "      <td>8.1</td>\n",
       "      <td>588100.0</td>\n",
       "      <td>106.361</td>\n",
       "      <td>7.782</td>\n",
       "    </tr>\n",
       "    <tr>\n",
       "      <th>4</th>\n",
       "      <td>7751</td>\n",
       "      <td>tm82169</td>\n",
       "      <td>Burgess Meredith</td>\n",
       "      <td>Mickey Goldmill</td>\n",
       "      <td>ACTOR</td>\n",
       "      <td>Rocky</td>\n",
       "      <td>MOVIE</td>\n",
       "      <td>When world heavyweight boxing champion, Apollo...</td>\n",
       "      <td>1976</td>\n",
       "      <td>PG</td>\n",
       "      <td>119</td>\n",
       "      <td>['drama', 'sport']</td>\n",
       "      <td>['US']</td>\n",
       "      <td>NaN</td>\n",
       "      <td>tt0075148</td>\n",
       "      <td>8.1</td>\n",
       "      <td>588100.0</td>\n",
       "      <td>106.361</td>\n",
       "      <td>7.782</td>\n",
       "    </tr>\n",
       "    <tr>\n",
       "      <th>...</th>\n",
       "      <td>...</td>\n",
       "      <td>...</td>\n",
       "      <td>...</td>\n",
       "      <td>...</td>\n",
       "      <td>...</td>\n",
       "      <td>...</td>\n",
       "      <td>...</td>\n",
       "      <td>...</td>\n",
       "      <td>...</td>\n",
       "      <td>...</td>\n",
       "      <td>...</td>\n",
       "      <td>...</td>\n",
       "      <td>...</td>\n",
       "      <td>...</td>\n",
       "      <td>...</td>\n",
       "      <td>...</td>\n",
       "      <td>...</td>\n",
       "      <td>...</td>\n",
       "      <td>...</td>\n",
       "    </tr>\n",
       "    <tr>\n",
       "      <th>81350</th>\n",
       "      <td>449518</td>\n",
       "      <td>tm1072700</td>\n",
       "      <td>Kayode Olaiya</td>\n",
       "      <td>Uncle Adio</td>\n",
       "      <td>ACTOR</td>\n",
       "      <td>All Na Vibes</td>\n",
       "      <td>MOVIE</td>\n",
       "      <td>The lives of three teenagers and a hit-man int...</td>\n",
       "      <td>2023</td>\n",
       "      <td>NaN</td>\n",
       "      <td>80</td>\n",
       "      <td>['drama']</td>\n",
       "      <td>['NG']</td>\n",
       "      <td>NaN</td>\n",
       "      <td>tt14922926</td>\n",
       "      <td>5.2</td>\n",
       "      <td>18.0</td>\n",
       "      <td>1.357</td>\n",
       "      <td>4.000</td>\n",
       "    </tr>\n",
       "    <tr>\n",
       "      <th>81351</th>\n",
       "      <td>2722717</td>\n",
       "      <td>tm1072700</td>\n",
       "      <td>Tolu Osaile</td>\n",
       "      <td>Sade</td>\n",
       "      <td>ACTOR</td>\n",
       "      <td>All Na Vibes</td>\n",
       "      <td>MOVIE</td>\n",
       "      <td>The lives of three teenagers and a hit-man int...</td>\n",
       "      <td>2023</td>\n",
       "      <td>NaN</td>\n",
       "      <td>80</td>\n",
       "      <td>['drama']</td>\n",
       "      <td>['NG']</td>\n",
       "      <td>NaN</td>\n",
       "      <td>tt14922926</td>\n",
       "      <td>5.2</td>\n",
       "      <td>18.0</td>\n",
       "      <td>1.357</td>\n",
       "      <td>4.000</td>\n",
       "    </tr>\n",
       "    <tr>\n",
       "      <th>81352</th>\n",
       "      <td>2722797</td>\n",
       "      <td>tm1072700</td>\n",
       "      <td>Eniola Oyetola</td>\n",
       "      <td>Officer Meks</td>\n",
       "      <td>ACTOR</td>\n",
       "      <td>All Na Vibes</td>\n",
       "      <td>MOVIE</td>\n",
       "      <td>The lives of three teenagers and a hit-man int...</td>\n",
       "      <td>2023</td>\n",
       "      <td>NaN</td>\n",
       "      <td>80</td>\n",
       "      <td>['drama']</td>\n",
       "      <td>['NG']</td>\n",
       "      <td>NaN</td>\n",
       "      <td>tt14922926</td>\n",
       "      <td>5.2</td>\n",
       "      <td>18.0</td>\n",
       "      <td>1.357</td>\n",
       "      <td>4.000</td>\n",
       "    </tr>\n",
       "    <tr>\n",
       "      <th>81353</th>\n",
       "      <td>866314</td>\n",
       "      <td>tm1072700</td>\n",
       "      <td>Tope Tedela</td>\n",
       "      <td>Officer Jack</td>\n",
       "      <td>ACTOR</td>\n",
       "      <td>All Na Vibes</td>\n",
       "      <td>MOVIE</td>\n",
       "      <td>The lives of three teenagers and a hit-man int...</td>\n",
       "      <td>2023</td>\n",
       "      <td>NaN</td>\n",
       "      <td>80</td>\n",
       "      <td>['drama']</td>\n",
       "      <td>['NG']</td>\n",
       "      <td>NaN</td>\n",
       "      <td>tt14922926</td>\n",
       "      <td>5.2</td>\n",
       "      <td>18.0</td>\n",
       "      <td>1.357</td>\n",
       "      <td>4.000</td>\n",
       "    </tr>\n",
       "    <tr>\n",
       "      <th>81354</th>\n",
       "      <td>1807691</td>\n",
       "      <td>tm1072700</td>\n",
       "      <td>Taiwo Egunjobi</td>\n",
       "      <td>NaN</td>\n",
       "      <td>DIRECTOR</td>\n",
       "      <td>All Na Vibes</td>\n",
       "      <td>MOVIE</td>\n",
       "      <td>The lives of three teenagers and a hit-man int...</td>\n",
       "      <td>2023</td>\n",
       "      <td>NaN</td>\n",
       "      <td>80</td>\n",
       "      <td>['drama']</td>\n",
       "      <td>['NG']</td>\n",
       "      <td>NaN</td>\n",
       "      <td>tt14922926</td>\n",
       "      <td>5.2</td>\n",
       "      <td>18.0</td>\n",
       "      <td>1.357</td>\n",
       "      <td>4.000</td>\n",
       "    </tr>\n",
       "  </tbody>\n",
       "</table>\n",
       "<p>81355 rows × 19 columns</p>\n",
       "</div>"
      ],
      "text/plain": [
       "       person_id         id                name                  character   \n",
       "0           3180    tm82169  Sylvester Stallone      Robert \"Rocky\" Balboa  \\\n",
       "1           7748    tm82169         Talia Shire  Adrianna \"Adrian\" Pennino   \n",
       "2           7749    tm82169          Burt Young             Paulie Pennino   \n",
       "3           7750    tm82169       Carl Weathers               Apollo Creed   \n",
       "4           7751    tm82169    Burgess Meredith            Mickey Goldmill   \n",
       "...          ...        ...                 ...                        ...   \n",
       "81350     449518  tm1072700       Kayode Olaiya                 Uncle Adio   \n",
       "81351    2722717  tm1072700         Tolu Osaile                       Sade   \n",
       "81352    2722797  tm1072700      Eniola Oyetola               Officer Meks   \n",
       "81353     866314  tm1072700         Tope Tedela               Officer Jack   \n",
       "81354    1807691  tm1072700      Taiwo Egunjobi                        NaN   \n",
       "\n",
       "           role         title   type   \n",
       "0         ACTOR         Rocky  MOVIE  \\\n",
       "1         ACTOR         Rocky  MOVIE   \n",
       "2         ACTOR         Rocky  MOVIE   \n",
       "3         ACTOR         Rocky  MOVIE   \n",
       "4         ACTOR         Rocky  MOVIE   \n",
       "...         ...           ...    ...   \n",
       "81350     ACTOR  All Na Vibes  MOVIE   \n",
       "81351     ACTOR  All Na Vibes  MOVIE   \n",
       "81352     ACTOR  All Na Vibes  MOVIE   \n",
       "81353     ACTOR  All Na Vibes  MOVIE   \n",
       "81354  DIRECTOR  All Na Vibes  MOVIE   \n",
       "\n",
       "                                             description  release_year   \n",
       "0      When world heavyweight boxing champion, Apollo...          1976  \\\n",
       "1      When world heavyweight boxing champion, Apollo...          1976   \n",
       "2      When world heavyweight boxing champion, Apollo...          1976   \n",
       "3      When world heavyweight boxing champion, Apollo...          1976   \n",
       "4      When world heavyweight boxing champion, Apollo...          1976   \n",
       "...                                                  ...           ...   \n",
       "81350  The lives of three teenagers and a hit-man int...          2023   \n",
       "81351  The lives of three teenagers and a hit-man int...          2023   \n",
       "81352  The lives of three teenagers and a hit-man int...          2023   \n",
       "81353  The lives of three teenagers and a hit-man int...          2023   \n",
       "81354  The lives of three teenagers and a hit-man int...          2023   \n",
       "\n",
       "      age_certification  runtime              genres production_countries   \n",
       "0                    PG      119  ['drama', 'sport']               ['US']  \\\n",
       "1                    PG      119  ['drama', 'sport']               ['US']   \n",
       "2                    PG      119  ['drama', 'sport']               ['US']   \n",
       "3                    PG      119  ['drama', 'sport']               ['US']   \n",
       "4                    PG      119  ['drama', 'sport']               ['US']   \n",
       "...                 ...      ...                 ...                  ...   \n",
       "81350               NaN       80           ['drama']               ['NG']   \n",
       "81351               NaN       80           ['drama']               ['NG']   \n",
       "81352               NaN       80           ['drama']               ['NG']   \n",
       "81353               NaN       80           ['drama']               ['NG']   \n",
       "81354               NaN       80           ['drama']               ['NG']   \n",
       "\n",
       "       seasons     imdb_id  imdb_score  imdb_votes  tmdb_popularity   \n",
       "0          NaN   tt0075148         8.1    588100.0          106.361  \\\n",
       "1          NaN   tt0075148         8.1    588100.0          106.361   \n",
       "2          NaN   tt0075148         8.1    588100.0          106.361   \n",
       "3          NaN   tt0075148         8.1    588100.0          106.361   \n",
       "4          NaN   tt0075148         8.1    588100.0          106.361   \n",
       "...        ...         ...         ...         ...              ...   \n",
       "81350      NaN  tt14922926         5.2        18.0            1.357   \n",
       "81351      NaN  tt14922926         5.2        18.0            1.357   \n",
       "81352      NaN  tt14922926         5.2        18.0            1.357   \n",
       "81353      NaN  tt14922926         5.2        18.0            1.357   \n",
       "81354      NaN  tt14922926         5.2        18.0            1.357   \n",
       "\n",
       "       tmdb_score  \n",
       "0           7.782  \n",
       "1           7.782  \n",
       "2           7.782  \n",
       "3           7.782  \n",
       "4           7.782  \n",
       "...           ...  \n",
       "81350       4.000  \n",
       "81351       4.000  \n",
       "81352       4.000  \n",
       "81353       4.000  \n",
       "81354       4.000  \n",
       "\n",
       "[81355 rows x 19 columns]"
      ]
     },
     "execution_count": 201,
     "metadata": {},
     "output_type": "execute_result"
    }
   ],
   "source": [
    "movies_df = credits_raw_df.merge(titles_raw_df,on='id')\n",
    "movies_df"
   ]
  },
  {
   "cell_type": "code",
   "execution_count": 202,
   "metadata": {},
   "outputs": [
    {
     "data": {
      "text/plain": [
       "Index(['person_id', 'id', 'name', 'character', 'role', 'title', 'type',\n",
       "       'description', 'release_year', 'age_certification', 'runtime', 'genres',\n",
       "       'production_countries', 'seasons', 'imdb_id', 'imdb_score',\n",
       "       'imdb_votes', 'tmdb_popularity', 'tmdb_score'],\n",
       "      dtype='object')"
      ]
     },
     "execution_count": 202,
     "metadata": {},
     "output_type": "execute_result"
    }
   ],
   "source": [
    "movies_df.columns"
   ]
  },
  {
   "cell_type": "code",
   "execution_count": 203,
   "metadata": {},
   "outputs": [
    {
     "data": {
      "text/plain": [
       "(81355, 19)"
      ]
     },
     "execution_count": 203,
     "metadata": {},
     "output_type": "execute_result"
    }
   ],
   "source": [
    "movies_df.shape"
   ]
  },
  {
   "cell_type": "code",
   "execution_count": 204,
   "metadata": {},
   "outputs": [
    {
     "name": "stdout",
     "output_type": "stream",
     "text": [
      "<class 'pandas.core.frame.DataFrame'>\n",
      "RangeIndex: 81355 entries, 0 to 81354\n",
      "Data columns (total 19 columns):\n",
      " #   Column                Non-Null Count  Dtype  \n",
      "---  ------                --------------  -----  \n",
      " 0   person_id             81355 non-null  int64  \n",
      " 1   id                    81355 non-null  object \n",
      " 2   name                  81355 non-null  object \n",
      " 3   character             70532 non-null  object \n",
      " 4   role                  81355 non-null  object \n",
      " 5   title                 81355 non-null  object \n",
      " 6   type                  81355 non-null  object \n",
      " 7   description           81315 non-null  object \n",
      " 8   release_year          81355 non-null  int64  \n",
      " 9   age_certification     47442 non-null  object \n",
      " 10  runtime               81355 non-null  int64  \n",
      " 11  genres                81355 non-null  object \n",
      " 12  production_countries  81355 non-null  object \n",
      " 13  seasons               16765 non-null  float64\n",
      " 14  imdb_id               78106 non-null  object \n",
      " 15  imdb_score            77642 non-null  float64\n",
      " 16  imdb_votes            77569 non-null  float64\n",
      " 17  tmdb_popularity       81341 non-null  float64\n",
      " 18  tmdb_score            80436 non-null  float64\n",
      "dtypes: float64(5), int64(3), object(11)\n",
      "memory usage: 11.8+ MB\n"
     ]
    }
   ],
   "source": [
    "movies_df.info()"
   ]
  },
  {
   "cell_type": "code",
   "execution_count": 205,
   "metadata": {
    "scrolled": false
   },
   "outputs": [
    {
     "data": {
      "text/html": [
       "<div>\n",
       "<style scoped>\n",
       "    .dataframe tbody tr th:only-of-type {\n",
       "        vertical-align: middle;\n",
       "    }\n",
       "\n",
       "    .dataframe tbody tr th {\n",
       "        vertical-align: top;\n",
       "    }\n",
       "\n",
       "    .dataframe thead th {\n",
       "        text-align: right;\n",
       "    }\n",
       "</style>\n",
       "<table border=\"1\" class=\"dataframe\">\n",
       "  <thead>\n",
       "    <tr style=\"text-align: right;\">\n",
       "      <th></th>\n",
       "      <th>person_id</th>\n",
       "      <th>release_year</th>\n",
       "      <th>runtime</th>\n",
       "      <th>seasons</th>\n",
       "      <th>imdb_score</th>\n",
       "      <th>imdb_votes</th>\n",
       "      <th>tmdb_popularity</th>\n",
       "      <th>tmdb_score</th>\n",
       "    </tr>\n",
       "  </thead>\n",
       "  <tbody>\n",
       "    <tr>\n",
       "      <th>count</th>\n",
       "      <td>8.135500e+04</td>\n",
       "      <td>81355.000000</td>\n",
       "      <td>81355.000000</td>\n",
       "      <td>16765.000000</td>\n",
       "      <td>77642.000000</td>\n",
       "      <td>7.756900e+04</td>\n",
       "      <td>81341.000000</td>\n",
       "      <td>80436.000000</td>\n",
       "    </tr>\n",
       "    <tr>\n",
       "      <th>mean</th>\n",
       "      <td>6.269059e+05</td>\n",
       "      <td>2016.464249</td>\n",
       "      <td>95.490923</td>\n",
       "      <td>1.946555</td>\n",
       "      <td>6.480386</td>\n",
       "      <td>5.880543e+04</td>\n",
       "      <td>24.375770</td>\n",
       "      <td>6.638782</td>\n",
       "    </tr>\n",
       "    <tr>\n",
       "      <th>std</th>\n",
       "      <td>7.383898e+05</td>\n",
       "      <td>7.688520</td>\n",
       "      <td>36.692555</td>\n",
       "      <td>2.238123</td>\n",
       "      <td>1.088607</td>\n",
       "      <td>2.097182e+05</td>\n",
       "      <td>54.856991</td>\n",
       "      <td>1.078614</td>\n",
       "    </tr>\n",
       "    <tr>\n",
       "      <th>min</th>\n",
       "      <td>7.000000e+00</td>\n",
       "      <td>1954.000000</td>\n",
       "      <td>0.000000</td>\n",
       "      <td>1.000000</td>\n",
       "      <td>1.500000</td>\n",
       "      <td>5.000000e+00</td>\n",
       "      <td>0.600000</td>\n",
       "      <td>1.000000</td>\n",
       "    </tr>\n",
       "    <tr>\n",
       "      <th>25%</th>\n",
       "      <td>5.883400e+04</td>\n",
       "      <td>2016.000000</td>\n",
       "      <td>75.000000</td>\n",
       "      <td>1.000000</td>\n",
       "      <td>5.800000</td>\n",
       "      <td>1.248000e+03</td>\n",
       "      <td>5.487000</td>\n",
       "      <td>6.042000</td>\n",
       "    </tr>\n",
       "    <tr>\n",
       "      <th>50%</th>\n",
       "      <td>2.425080e+05</td>\n",
       "      <td>2019.000000</td>\n",
       "      <td>100.000000</td>\n",
       "      <td>1.000000</td>\n",
       "      <td>6.500000</td>\n",
       "      <td>5.711000e+03</td>\n",
       "      <td>11.475000</td>\n",
       "      <td>6.700000</td>\n",
       "    </tr>\n",
       "    <tr>\n",
       "      <th>75%</th>\n",
       "      <td>1.037428e+06</td>\n",
       "      <td>2021.000000</td>\n",
       "      <td>118.000000</td>\n",
       "      <td>2.000000</td>\n",
       "      <td>7.300000</td>\n",
       "      <td>3.284800e+04</td>\n",
       "      <td>22.321000</td>\n",
       "      <td>7.319000</td>\n",
       "    </tr>\n",
       "    <tr>\n",
       "      <th>max</th>\n",
       "      <td>2.771013e+06</td>\n",
       "      <td>2023.000000</td>\n",
       "      <td>225.000000</td>\n",
       "      <td>44.000000</td>\n",
       "      <td>9.600000</td>\n",
       "      <td>2.684317e+06</td>\n",
       "      <td>1078.637000</td>\n",
       "      <td>10.000000</td>\n",
       "    </tr>\n",
       "  </tbody>\n",
       "</table>\n",
       "</div>"
      ],
      "text/plain": [
       "          person_id  release_year       runtime       seasons    imdb_score   \n",
       "count  8.135500e+04  81355.000000  81355.000000  16765.000000  77642.000000  \\\n",
       "mean   6.269059e+05   2016.464249     95.490923      1.946555      6.480386   \n",
       "std    7.383898e+05      7.688520     36.692555      2.238123      1.088607   \n",
       "min    7.000000e+00   1954.000000      0.000000      1.000000      1.500000   \n",
       "25%    5.883400e+04   2016.000000     75.000000      1.000000      5.800000   \n",
       "50%    2.425080e+05   2019.000000    100.000000      1.000000      6.500000   \n",
       "75%    1.037428e+06   2021.000000    118.000000      2.000000      7.300000   \n",
       "max    2.771013e+06   2023.000000    225.000000     44.000000      9.600000   \n",
       "\n",
       "         imdb_votes  tmdb_popularity    tmdb_score  \n",
       "count  7.756900e+04     81341.000000  80436.000000  \n",
       "mean   5.880543e+04        24.375770      6.638782  \n",
       "std    2.097182e+05        54.856991      1.078614  \n",
       "min    5.000000e+00         0.600000      1.000000  \n",
       "25%    1.248000e+03         5.487000      6.042000  \n",
       "50%    5.711000e+03        11.475000      6.700000  \n",
       "75%    3.284800e+04        22.321000      7.319000  \n",
       "max    2.684317e+06      1078.637000     10.000000  "
      ]
     },
     "execution_count": 205,
     "metadata": {},
     "output_type": "execute_result"
    }
   ],
   "source": [
    "movies_df.describe()"
   ]
  },
  {
   "cell_type": "code",
   "execution_count": 208,
   "metadata": {},
   "outputs": [],
   "source": [
    "import jovian"
   ]
  },
  {
   "cell_type": "code",
   "execution_count": 209,
   "metadata": {},
   "outputs": [
    {
     "data": {
      "application/javascript": [
       "window.require && require([\"base/js/namespace\"],function(Jupyter){Jupyter.notebook.save_checkpoint()})"
      ],
      "text/plain": [
       "<IPython.core.display.Javascript object>"
      ]
     },
     "metadata": {},
     "output_type": "display_data"
    },
    {
     "name": "stdout",
     "output_type": "stream",
     "text": [
      "[jovian] Updating notebook \"roshnaramohammed1/zerotopandas-course-project-starter\" on https://jovian.com/\u001b[0m\n",
      "[jovian] Committed successfully! https://jovian.com/roshnaramohammed1/zerotopandas-course-project-starter\u001b[0m\n"
     ]
    },
    {
     "data": {
      "text/plain": [
       "'https://jovian.com/roshnaramohammed1/zerotopandas-course-project-starter'"
      ]
     },
     "execution_count": 209,
     "metadata": {},
     "output_type": "execute_result"
    }
   ],
   "source": [
    "jovian.commit()"
   ]
  },
  {
   "cell_type": "markdown",
   "metadata": {},
   "source": [
    "## Exploratory Analysis and Visualization\n",
    "\n",
    "Exploratory Data Analysis (EDA) is an important step in understanding the underlying patterns and relationships in a dataset. And visualization is a powerful tool for gaining insights and communicating findings from the data\n",
    "\n"
   ]
  },
  {
   "cell_type": "markdown",
   "metadata": {},
   "source": [
    "Let's begin by importing`matplotlib.pyplot` and `seaborn`."
   ]
  },
  {
   "cell_type": "code",
   "execution_count": 210,
   "metadata": {},
   "outputs": [],
   "source": [
    "import seaborn as sns\n",
    "import matplotlib\n",
    "import matplotlib.pyplot as plt\n",
    "%matplotlib inline\n",
    "\n",
    "sns.set_style('darkgrid')\n",
    "matplotlib.rcParams['font.size'] = 14\n",
    "matplotlib.rcParams['figure.figsize'] = (9, 5)\n",
    "matplotlib.rcParams['figure.facecolor'] = '#00000000'"
   ]
  },
  {
   "cell_type": "markdown",
   "metadata": {},
   "source": [
    "### Name\n",
    "Let's look at the number of movies actors/actresses have acted and plot the 15 actors with the highest number of movies."
   ]
  },
  {
   "cell_type": "code",
   "execution_count": 211,
   "metadata": {},
   "outputs": [],
   "source": [
    "top_actor = movies_df.name.value_counts().head(15)\n"
   ]
  },
  {
   "cell_type": "code",
   "execution_count": 212,
   "metadata": {},
   "outputs": [
    {
     "data": {
      "text/plain": [
       "name\n",
       "Shah Rukh Khan         38\n",
       "Boman Irani            24\n",
       "Anupam Kher            23\n",
       "Kareena Kapoor Khan    21\n",
       "Aamir Khan             21\n",
       "Fred Tatasciore        21\n",
       "Kari Wahlgren          20\n",
       "Raúl Campos            20\n",
       "Yuki Kaji              19\n",
       "Kenjiro Tsuda          19\n",
       "Naseeruddin Shah       19\n",
       "Jan Suter              19\n",
       "Junichi Suwabe         18\n",
       "Nassar                 18\n",
       "Grey DeLisle           18\n",
       "Name: count, dtype: int64"
      ]
     },
     "execution_count": 212,
     "metadata": {},
     "output_type": "execute_result"
    }
   ],
   "source": [
    "top_actor"
   ]
  },
  {
   "cell_type": "code",
   "execution_count": 213,
   "metadata": {},
   "outputs": [
    {
     "data": {
      "text/plain": [
       "<Axes: title={'center': 'Actors which played in top number of movies'}, xlabel='name', ylabel='count'>"
      ]
     },
     "execution_count": 213,
     "metadata": {},
     "output_type": "execute_result"
    },
    {
     "data": {
      "image/png": "[encoded data removed]",
      "text/plain": [
       "<Figure size 1200x600 with 1 Axes>"
      ]
     },
     "metadata": {
      "needs_background": "light"
     },
     "output_type": "display_data"
    }
   ],
   "source": [
    "plt.figure(figsize = (12,6))\n",
    "plt.xticks(rotation=75)\n",
    "plt.title(\"Actors which played in top number of movies\")\n",
    "sns.barplot(x = top_actor.index , y =top_actor )\n"
   ]
  },
  {
   "cell_type": "markdown",
   "metadata": {},
   "source": [
    "It appears that Shah Rukh Khan acted in the highest number of movies, and also fist 5 places is hold by indian actors/actresses"
   ]
  },
  {
   "cell_type": "markdown",
   "metadata": {},
   "source": [
    "### Type\n",
    "Let's look at the number of movies and series availble in netflix and plot a pie diagram"
   ]
  },
  {
   "cell_type": "code",
   "execution_count": 214,
   "metadata": {},
   "outputs": [],
   "source": [
    "movie_types = movies_df.type.value_counts().head(15)"
   ]
  },
  {
   "cell_type": "code",
   "execution_count": 215,
   "metadata": {},
   "outputs": [
    {
     "data": {
      "text/plain": [
       "type\n",
       "MOVIE    64590\n",
       "SHOW     16765\n",
       "Name: count, dtype: int64"
      ]
     },
     "execution_count": 215,
     "metadata": {},
     "output_type": "execute_result"
    }
   ],
   "source": [
    "movie_types"
   ]
  },
  {
   "cell_type": "code",
   "execution_count": 216,
   "metadata": {},
   "outputs": [
    {
     "data": {
      "image/png": "[encoded data removed]",
      "text/plain": [
       "<Figure size 1200x600 with 1 Axes>"
      ]
     },
     "metadata": {},
     "output_type": "display_data"
    }
   ],
   "source": [
    "plt.figure(figsize=(12,6))\n",
    "plt.title(' Movie Type')\n",
    "plt.pie(movie_types, labels= movie_types.index, autopct='%1.1f%%', startangle=180);"
   ]
  },
  {
   "cell_type": "markdown",
   "metadata": {},
   "source": [
    "from this plot it is clear that about 79 percentage of the total collection is Movies which is more than the half of the total collection, only 20 percent is series"
   ]
  },
  {
   "cell_type": "markdown",
   "metadata": {},
   "source": [
    "### Release Year\n",
    "Lets look at the number of movies releasing per year.We can use a histogram to visualise it\n",
    " "
   ]
  },
  {
   "cell_type": "code",
   "execution_count": 217,
   "metadata": {},
   "outputs": [
    {
     "data": {
      "image/png": "[encoded data removed]",
      "text/plain": [
       "<Figure size 900x500 with 1 Axes>"
      ]
     },
     "metadata": {
      "needs_background": "light"
     },
     "output_type": "display_data"
    }
   ],
   "source": [
    "# plt.figure(figsize=(12, 6))\n",
    "plt.title('release_year')\n",
    "plt.xlabel('Year')\n",
    "plt.ylabel('Number of movies')\n",
    "\n",
    "plt.hist(movies_df.release_year, color='purple');"
   ]
  },
  {
   "cell_type": "markdown",
   "metadata": {},
   "source": [
    "From this we can understand that over half of the total number of movies is released between 2010-2020 years and highest number of movies is released in the year of 2020"
   ]
  },
  {
   "cell_type": "markdown",
   "metadata": {},
   "source": [
    "### Production Countries\n",
    "We can take a look at the countries in which movies/series are produced and we an plot a graph on countries producing highest number of movies"
   ]
  },
  {
   "cell_type": "code",
   "execution_count": 218,
   "metadata": {},
   "outputs": [
    {
     "data": {
      "text/plain": [
       "production_countries\n",
       "['US']          27223\n",
       "['IN']           7979\n",
       "['JP']           3649\n",
       "['KR']           3464\n",
       "['ES']           2257\n",
       "['GB']           2013\n",
       "['TR']           1554\n",
       "['GB', 'US']     1499\n",
       "['PH']           1496\n",
       "['FR']           1241\n",
       "Name: count, dtype: int64"
      ]
     },
     "execution_count": 218,
     "metadata": {},
     "output_type": "execute_result"
    }
   ],
   "source": [
    "movies_df.production_countries.value_counts().head(10)"
   ]
  },
  {
   "cell_type": "code",
   "execution_count": 219,
   "metadata": {},
   "outputs": [
    {
     "data": {
      "image/png": "[encoded data removed]",
      "text/plain": [
       "<Figure size 900x500 with 1 Axes>"
      ]
     },
     "metadata": {
      "needs_background": "light"
     },
     "output_type": "display_data"
    }
   ],
   "source": [
    "production_countries_df = movies_df.production_countries.value_counts().head(15)\n",
    "\n",
    "sns.barplot(x=production_countries_df, y=production_countries_df.index)\n",
    "\n",
    "plt.title('production_countries')\n",
    "plt.ylabel(None);\n",
    "plt.xlabel('count');"
   ]
  },
  {
   "cell_type": "markdown",
   "metadata": {},
   "source": [
    "from this we can understand that US produces the highest number of movies and india and japan holds the second and thid positions"
   ]
  },
  {
   "cell_type": "markdown",
   "metadata": {},
   "source": [
    "### Imdb Score\n",
    "We can take a look at the imdb scores of movies .Movies with high imdb score is considerd to be good movies"
   ]
  },
  {
   "cell_type": "code",
   "execution_count": 220,
   "metadata": {},
   "outputs": [
    {
     "data": {
      "text/plain": [
       "0        8.1\n",
       "1        8.1\n",
       "2        8.1\n",
       "3        8.1\n",
       "4        8.1\n",
       "        ... \n",
       "81350    5.2\n",
       "81351    5.2\n",
       "81352    5.2\n",
       "81353    5.2\n",
       "81354    5.2\n",
       "Name: imdb_score, Length: 81355, dtype: float64"
      ]
     },
     "execution_count": 220,
     "metadata": {},
     "output_type": "execute_result"
    }
   ],
   "source": [
    "movies_df.imdb_score"
   ]
  },
  {
   "cell_type": "code",
   "execution_count": 221,
   "metadata": {},
   "outputs": [
    {
     "data": {
      "image/png": "[encoded data removed]",
      "text/plain": [
       "<Figure size 1200x600 with 1 Axes>"
      ]
     },
     "metadata": {
      "needs_background": "light"
     },
     "output_type": "display_data"
    }
   ],
   "source": [
    "plt.figure(figsize=(12, 6))\n",
    "plt.title('imdb score')\n",
    "plt.xlabel('score')\n",
    "plt.ylabel('Number of movies')\n",
    "\n",
    "plt.hist(movies_df.imdb_score,color='purple');"
   ]
  },
  {
   "cell_type": "markdown",
   "metadata": {},
   "source": [
    "from this graph we can understand that most of the movies/series have imdb score between 6-8"
   ]
  },
  {
   "cell_type": "markdown",
   "metadata": {},
   "source": [
    "Let us save and upload our work to Jovian before continuing"
   ]
  },
  {
   "cell_type": "code",
   "execution_count": 222,
   "metadata": {},
   "outputs": [],
   "source": [
    "import jovian"
   ]
  },
  {
   "cell_type": "code",
   "execution_count": 223,
   "metadata": {
    "scrolled": true
   },
   "outputs": [
    {
     "data": {
      "application/javascript": [
       "window.require && require([\"base/js/namespace\"],function(Jupyter){Jupyter.notebook.save_checkpoint()})"
      ],
      "text/plain": [
       "<IPython.core.display.Javascript object>"
      ]
     },
     "metadata": {},
     "output_type": "display_data"
    },
    {
     "name": "stdout",
     "output_type": "stream",
     "text": [
      "[jovian] Updating notebook \"roshnaramohammed1/zerotopandas-course-project-starter\" on https://jovian.com/\u001b[0m\n",
      "[jovian] Committed successfully! https://jovian.com/roshnaramohammed1/zerotopandas-course-project-starter\u001b[0m\n"
     ]
    },
    {
     "data": {
      "text/plain": [
       "'https://jovian.com/roshnaramohammed1/zerotopandas-course-project-starter'"
      ]
     },
     "execution_count": 223,
     "metadata": {},
     "output_type": "execute_result"
    }
   ],
   "source": [
    "jovian.commit()"
   ]
  },
  {
   "cell_type": "markdown",
   "metadata": {},
   "source": [
    "## Asking and Answering Questions\n",
    "\n",
    "\n",
    "\n"
   ]
  },
  {
   "cell_type": "markdown",
   "metadata": {},
   "source": [
    "#### Q1: What is the average rating of movies and series on Netflix?Are there any correlations between the length of a movie or series and its rating?"
   ]
  },
  {
   "cell_type": "code",
   "execution_count": 224,
   "metadata": {},
   "outputs": [],
   "source": [
    "import numpy as np"
   ]
  },
  {
   "cell_type": "code",
   "execution_count": 225,
   "metadata": {},
   "outputs": [],
   "source": [
    "imdb_rating = movies_df.imdb_score.mean()"
   ]
  },
  {
   "cell_type": "code",
   "execution_count": 226,
   "metadata": {},
   "outputs": [
    {
     "data": {
      "text/plain": [
       "6.0"
      ]
     },
     "execution_count": 226,
     "metadata": {},
     "output_type": "execute_result"
    }
   ],
   "source": [
    "np.round(imdb_rating)"
   ]
  },
  {
   "cell_type": "code",
   "execution_count": 227,
   "metadata": {},
   "outputs": [
    {
     "data": {
      "text/plain": [
       "-0.03751870098274905"
      ]
     },
     "execution_count": 227,
     "metadata": {},
     "output_type": "execute_result"
    }
   ],
   "source": [
    "corr_coef = movies_df['runtime'].corr(movies_df['imdb_score'])\n",
    "corr_coef"
   ]
  },
  {
   "cell_type": "markdown",
   "metadata": {},
   "source": [
    "The average rating of movies and series on netflix is 6.and it is saying that there is a negative correlation coefficient value .A negative correlation coefficient indicates that there is a relationship between two variables in which as one variable increases, the other variable tends to decrease.It means, as length of the movie increases the rating tend to decrease."
   ]
  },
  {
   "cell_type": "markdown",
   "metadata": {},
   "source": [
    "#### Q2: Which are the most popular genre in netflix?"
   ]
  },
  {
   "cell_type": "code",
   "execution_count": 259,
   "metadata": {},
   "outputs": [
    {
     "data": {
      "text/plain": [
       "\"['action', 'drama', 'animation', 'comedy', 'fantasy']\""
      ]
     },
     "execution_count": 259,
     "metadata": {},
     "output_type": "execute_result"
    }
   ],
   "source": [
    "genre_imdb_df = movies_df[['genres', 'imdb_score']]\n",
    "genre_imdb_avg_df = genre_imdb_df.groupby('genres').mean()\n",
    "most_popular_genre = genre_imdb_avg_df.sort_values('imdb_score', ascending=False).index[0]\n",
    "most_popular_genre"
   ]
  },
  {
   "cell_type": "code",
   "execution_count": null,
   "metadata": {},
   "outputs": [],
   "source": []
  },
  {
   "cell_type": "markdown",
   "metadata": {},
   "source": [
    "It turns out the most popular genre are Action,Drama,Animation,Comedy,Fantasy based on imdb Score"
   ]
  },
  {
   "cell_type": "markdown",
   "metadata": {},
   "source": [
    "#### Q3: What is the average length of a Netflix movie or series? and what is the average duration of a Netflix series per season?\n"
   ]
  },
  {
   "cell_type": "code",
   "execution_count": 251,
   "metadata": {},
   "outputs": [],
   "source": [
    "avg_runtime = movies_df.runtime.mean()"
   ]
  },
  {
   "cell_type": "code",
   "execution_count": 252,
   "metadata": {},
   "outputs": [
    {
     "data": {
      "text/plain": [
       "95.0"
      ]
     },
     "execution_count": 252,
     "metadata": {},
     "output_type": "execute_result"
    }
   ],
   "source": [
    "np.round(avg_runtime)"
   ]
  },
  {
   "cell_type": "code",
   "execution_count": 253,
   "metadata": {},
   "outputs": [
    {
     "name": "stderr",
     "output_type": "stream",
     "text": [
      "C:\\Users\\Admin\\AppData\\Local\\Temp\\ipykernel_8536\\1119324934.py:2: SettingWithCopyWarning: \n",
      "A value is trying to be set on a copy of a slice from a DataFrame.\n",
      "Try using .loc[row_indexer,col_indexer] = value instead\n",
      "\n",
      "See the caveats in the documentation: https://pandas.pydata.org/pandas-docs/stable/user_guide/indexing.html#returning-a-view-versus-a-copy\n",
      "  tv_series[\"total_duration\"] = tv_series[\"runtime\"] * tv_series[\"seasons\"]\n"
     ]
    },
    {
     "data": {
      "text/plain": [
       "39.724673653245084"
      ]
     },
     "execution_count": 253,
     "metadata": {},
     "output_type": "execute_result"
    }
   ],
   "source": [
    "tv_series = movies_df[movies_df[\"type\"] == \"SHOW\"]\n",
    "tv_series[\"total_duration\"] = tv_series[\"runtime\"] * tv_series[\"seasons\"]\n",
    "total_duration = tv_series[\"total_duration\"].sum()\n",
    "num_seasons = tv_series[\"seasons\"].sum()\n",
    "avg_duration = total_duration / num_seasons\n",
    "avg_duration\n"
   ]
  },
  {
   "cell_type": "markdown",
   "metadata": {},
   "source": [
    "The average length of a Netflix movie and series is 95 and average length of netflix series per season is 39.724673653245084 "
   ]
  },
  {
   "cell_type": "markdown",
   "metadata": {},
   "source": [
    "#### Q4: Top 10 Directors, who gave the highest number of TV Shows & Movies to Netflix ?"
   ]
  },
  {
   "cell_type": "code",
   "execution_count": 257,
   "metadata": {},
   "outputs": [
    {
     "name": "stdout",
     "output_type": "stream",
     "text": [
      "                     name  count\n",
      "2727          Raúl Campos     20\n",
      "1321            Jan Suter     19\n",
      "2891          Ryan Polito     17\n",
      "1355            Jay Karas     15\n",
      "2069         Marcus Raboy     15\n",
      "505   Cathy Garcia-Molina     12\n",
      "3538      Youssef Chahine     12\n",
      "3181          Suhas Kadav     11\n",
      "1354          Jay Chapman     10\n",
      "1817       Kunle Afolayan      9\n"
     ]
    }
   ],
   "source": [
    "directors_data = movies_df[movies_df['role'] == 'DIRECTOR']\n",
    "director_counts = directors_data.groupby('name').size().reset_index(name='count')\n",
    "director_counts_sorted = director_counts.sort_values(by='count', ascending=False)\n",
    "print(director_counts_sorted.head(10))\n"
   ]
  },
  {
   "cell_type": "markdown",
   "metadata": {},
   "source": [
    "it says that Raúl Campos gave the highest number of movies/Shows followed by Jan suter and Ryan polito"
   ]
  },
  {
   "cell_type": "markdown",
   "metadata": {},
   "source": [
    "#### Q5:What is the distribution of age ratings for movies and TV shows on Netflix? "
   ]
  },
  {
   "cell_type": "code",
   "execution_count": 255,
   "metadata": {},
   "outputs": [],
   "source": [
    "agecertification = movies_df.age_certification.value_counts()"
   ]
  },
  {
   "cell_type": "code",
   "execution_count": 256,
   "metadata": {},
   "outputs": [
    {
     "data": {
      "text/plain": [
       "<Axes: title={'center': 'Age Ratings'}, xlabel='age_certification', ylabel='count'>"
      ]
     },
     "execution_count": 256,
     "metadata": {},
     "output_type": "execute_result"
    },
    {
     "data": {
      "image/png": "[encoded data removed]",
      "text/plain": [
       "<Figure size 1200x600 with 1 Axes>"
      ]
     },
     "metadata": {
      "needs_background": "light"
     },
     "output_type": "display_data"
    }
   ],
   "source": [
    "plt.figure(figsize = (12,6))\n",
    "plt.xticks(rotation=75)\n",
    "plt.title(\"Age Ratings\")\n",
    "sns.barplot(x = agecertification.index , y = agecertification )"
   ]
  },
  {
   "cell_type": "markdown",
   "metadata": {},
   "source": [
    "From this we can understand that majority of titles on Netflix are rated R, followed by PG-13 and TV-MA."
   ]
  },
  {
   "cell_type": "markdown",
   "metadata": {},
   "source": [
    "Let us save and upload our work to Jovian before continuing."
   ]
  },
  {
   "cell_type": "code",
   "execution_count": null,
   "metadata": {},
   "outputs": [],
   "source": [
    "import jovian"
   ]
  },
  {
   "cell_type": "code",
   "execution_count": null,
   "metadata": {},
   "outputs": [],
   "source": [
    "jovian.commit()"
   ]
  },
  {
   "cell_type": "markdown",
   "metadata": {},
   "source": [
    "## Inferences and Conclusion\n",
    "\n",
    "- Netflix has a diverse range of content, including movies, TV shows, documentaries.\n",
    "\n",
    "- The number of titles on Netflix has been consistently increasing over the years, indicating the company's growth.\n",
    "\n",
    "- The majority of titles on Netflix are rated R, followed by PG-13 and TV-MA.\n",
    "\n",
    "- The most popular genres on Netflix are Action,Drama,Animation,Comedy & Fantasy.\n",
    "\n",
    "- The United States has the most content available on Netflix, followed by India \n",
    "\n",
    "- The average duration of a Netflix movie is around 95 minutes, while the average duration of a TV show episode is around 39 minutes.\n",
    "\n",
    "- 79 percentage of the total collection is Movies which is more than the half of the total collection, only 20 percent is series\n"
   ]
  },
  {
   "cell_type": "code",
   "execution_count": null,
   "metadata": {},
   "outputs": [],
   "source": [
    "import jovian"
   ]
  },
  {
   "cell_type": "code",
   "execution_count": null,
   "metadata": {},
   "outputs": [],
   "source": [
    "jovian.commit()"
   ]
  },
  {
   "cell_type": "markdown",
   "metadata": {},
   "source": [
    "## References and Future Work\n",
    "\n",
    "\n",
    "- Stack Overflow Developer Survey: https://insights.stackoverflow.com/survey\n",
    "- Pandas user guide: https://pandas.pydata.org/docs/user_guide/index.html\n",
    "- Matplotlib user guide: https://matplotlib.org/3.3.1/users/index.html\n",
    "- Seaborn user guide & tutorial: https://seaborn.pydata.org/tutorial.html\n",
    "- `opendatasets` Python library: https://github.com/JovianML/opendatasets\n",
    "\n",
    "\n"
   ]
  },
  {
   "cell_type": "code",
   "execution_count": null,
   "metadata": {},
   "outputs": [],
   "source": [
    "import jovian"
   ]
  },
  {
   "cell_type": "code",
   "execution_count": null,
   "metadata": {
    "scrolled": true
   },
   "outputs": [],
   "source": [
    "jovian.commit()"
   ]
  }
 ],
 "metadata": {
  "kernelspec": {
   "display_name": "Python 3 (ipykernel)",
   "language": "python",
   "name": "python3"
  },
  "language_info": {
   "codemirror_mode": {
    "name": "ipython",
    "version": 3
   },
   "file_extension": ".py",
   "mimetype": "text/x-python",
   "name": "python",
   "nbconvert_exporter": "python",
   "pygments_lexer": "ipython3",
   "version": "3.11.3"
  }
 },
 "nbformat": 4,
 "nbformat_minor": 4
}
